{
 "cells": [
  {
   "cell_type": "markdown",
   "metadata": {},
   "source": [
    "# Regression Week 1: Simple Linear Regression"
   ]
  },
  {
   "cell_type": "markdown",
   "metadata": {},
   "source": [
    "In this notebook we will use data on house sales in King County to predict house prices using simple (one input) linear regression. You will:\n",
    "* Use graphlab SArray and SFrame functions to compute important summary statistics\n",
    "* Write a function to compute the Simple Linear Regression weights using the closed form solution\n",
    "* Write a function to make predictions of the output given the input feature\n",
    "* Turn the regression around to predict the input given the output\n",
    "* Compare two different models for predicting house prices\n",
    "\n",
    "In this notebook you will be provided with some already complete code as well as some code that you should complete yourself in order to answer quiz questions. The code we provide to complte is optional and is there to assist you with solving the problems but feel free to ignore the helper code and write your own."
   ]
  },
  {
   "cell_type": "markdown",
   "metadata": {},
   "source": [
    "# Fire up graphlab create"
   ]
  },
  {
   "cell_type": "code",
   "execution_count": 1,
   "metadata": {
    "collapsed": false
   },
   "outputs": [],
   "source": [
    "import graphlab"
   ]
  },
  {
   "cell_type": "markdown",
   "metadata": {},
   "source": [
    "# Load house sales data\n",
    "\n",
    "Dataset is from house sales in King County, the region where the city of Seattle, WA is located."
   ]
  },
  {
   "cell_type": "code",
   "execution_count": 2,
   "metadata": {
    "collapsed": false
   },
   "outputs": [
    {
     "name": "stderr",
     "output_type": "stream",
     "text": [
      "[INFO] \u001b[1;32m1449464053 : INFO:     (initialize_globals_from_environment:282): Setting configuration variable GRAPHLAB_FILEIO_ALTERNATIVE_SSL_CERT_FILE to C:\\Python27\\lib\\site-packages\\certifi\\cacert.pem\n",
      "\u001b[0m\u001b[1;32m1449464053 : INFO:     (initialize_globals_from_environment:282): Setting configuration variable GRAPHLAB_FILEIO_ALTERNATIVE_SSL_CERT_DIR to \n",
      "\u001b[0mThis non-commercial license of GraphLab Create is assigned to vthukral@gmail.com and will expire on September 26, 2016. For commercial licensing options, visit https://dato.com/buy/.\n",
      "\n",
      "[INFO] Start server at: ipc:///tmp/graphlab_server-12108 - Server binary: C:\\Python27\\lib\\site-packages\\graphlab\\unity_server.exe - Server log: C:\\Users\\vaibhavt\\AppData\\Local\\Temp\\graphlab_server_1449464053.log.0\n",
      "[INFO] GraphLab Server Version: 1.7.1\n"
     ]
    }
   ],
   "source": [
    "sales = graphlab.SFrame('kc_house_data.gl/')"
   ]
  },
  {
   "cell_type": "markdown",
   "metadata": {},
   "source": [
    "# Split data into training and testing"
   ]
  },
  {
   "cell_type": "markdown",
   "metadata": {},
   "source": [
    "We use seed=0 so that everyone running this notebook gets the same results.  In practice, you may set a random seed (or let GraphLab Create pick a random seed for you).  "
   ]
  },
  {
   "cell_type": "code",
   "execution_count": 3,
   "metadata": {
    "collapsed": false
   },
   "outputs": [],
   "source": [
    "train_data,test_data = sales.random_split(.8,seed=0)"
   ]
  },
  {
   "cell_type": "markdown",
   "metadata": {},
   "source": [
    "# Useful SFrame summary functions"
   ]
  },
  {
   "cell_type": "markdown",
   "metadata": {},
   "source": [
    "In order to make use of the closed form soltion as well as take advantage of graphlab's built in functions we will review some important ones. In particular:\n",
    "* Computing the sum of an SArray\n",
    "* Computing the arithmetic average (mean) of an SArray\n",
    "* multiplying SArrays by constants\n",
    "* multiplying SArrays by other SArrays"
   ]
  },
  {
   "cell_type": "code",
   "execution_count": 4,
   "metadata": {
    "collapsed": false
   },
   "outputs": [
    {
     "name": "stdout",
     "output_type": "stream",
     "text": [
      "average price via method 1: 540088.141905\n",
      "average price via method 2: 540088.141905\n"
     ]
    }
   ],
   "source": [
    "# Let's compute the mean of the House Prices in King County in 2 different ways.\n",
    "prices = sales['price'] # extract the price column of the sales SFrame -- this is now an SArray\n",
    "\n",
    "# recall that the arithmetic average (the mean) is the sum of the prices divided by the total number of houses:\n",
    "sum_prices = prices.sum()\n",
    "num_houses = prices.size() # when prices is an SArray .size() returns its length\n",
    "avg_price_1 = sum_prices/num_houses\n",
    "avg_price_2 = prices.mean() # if you just want the average, the .mean() function\n",
    "print \"average price via method 1: \" + str(avg_price_1)\n",
    "print \"average price via method 2: \" + str(avg_price_2)"
   ]
  },
  {
   "cell_type": "markdown",
   "metadata": {},
   "source": [
    "As we see we get the same answer both ways"
   ]
  },
  {
   "cell_type": "code",
   "execution_count": 5,
   "metadata": {
    "collapsed": false
   },
   "outputs": [
    {
     "name": "stdout",
     "output_type": "stream",
     "text": [
      "the sum of price squared is: 9.21732513355e+15\n"
     ]
    }
   ],
   "source": [
    "# if we want to multiply every price by 0.5 it's a simple as:\n",
    "half_prices = 0.5*prices\n",
    "# Let's compute the sum of squares of price. We can multiply two SArrays of the same length elementwise also with *\n",
    "prices_squared = prices*prices\n",
    "sum_prices_squared = prices_squared.sum() # price_squared is an SArray of the squares and we want to add them up.\n",
    "print \"the sum of price squared is: \" + str(sum_prices_squared)"
   ]
  },
  {
   "cell_type": "markdown",
   "metadata": {},
   "source": [
    "Aside: The python notation x.xxe+yy means x.xx \\* 10^(yy). e.g 100 = 10^2 = 1*10^2 = 1e2 "
   ]
  },
  {
   "cell_type": "markdown",
   "metadata": {},
   "source": [
    "# Build a generic simple linear regression function "
   ]
  },
  {
   "cell_type": "markdown",
   "metadata": {},
   "source": [
    "Armed with these SArray functions we can use the closed form solution found from lecture to compute the slope and intercept for a simple linear regression on observations stored as SArrays: input_feature, output.\n",
    "\n",
    "Complete the following function (or write your own) to compute the simple linear regression slope and intercept:"
   ]
  },
  {
   "cell_type": "code",
   "execution_count": 8,
   "metadata": {
    "collapsed": false
   },
   "outputs": [],
   "source": [
    "def simple_linear_regression(input_feature, output):\n",
    "    # compute the mean of  input_feature and output\n",
    "    scalar_mean_xi = input_feature.mean()\n",
    "    scalar_mean_yi = output.mean()\n",
    "    \n",
    "    # compute the product of the output and the input_feature and its mean\n",
    "    vec_prod_xi_yi = input_feature*output\n",
    "    \n",
    "    # compute the squared value of the input_feature and its mean\n",
    "    vec_sqr_xi_xi = input_feature*input_feature\n",
    "    \n",
    "    # use the formula for the slope\n",
    "    numerator = vec_prod_xi_yi.sum() - input_feature.sum() * scalar_mean_yi;\n",
    "    denominator = vec_sqr_xi_xi.sum() - (input_feature.sum()*input_feature.sum()/input_feature.size())\n",
    "    slope = numerator/denominator\n",
    "    \n",
    "    # use the formula for the intercept\n",
    "    intercept = scalar_mean_yi - slope*scalar_mean_xi;\n",
    "    \n",
    "    return (intercept, slope)"
   ]
  },
  {
   "cell_type": "markdown",
   "metadata": {},
   "source": [
    "We can test that our function works by passing it something where we know the answer. In particular we can generate a feature and then put the output exactly on a line: output = 1 + 1\\*input_feature then we know both our slope and intercept should be 1"
   ]
  },
  {
   "cell_type": "code",
   "execution_count": 9,
   "metadata": {
    "collapsed": false,
    "scrolled": true
   },
   "outputs": [
    {
     "name": "stdout",
     "output_type": "stream",
     "text": [
      "Intercept: 1.0\n",
      "Slope: 1.0\n"
     ]
    }
   ],
   "source": [
    "test_feature = graphlab.SArray(range(5))\n",
    "test_output = graphlab.SArray(1 + 1*test_feature)\n",
    "(test_intercept, test_slope) =  simple_linear_regression(test_feature, test_output)\n",
    "print \"Intercept: \" + str(test_intercept)\n",
    "print \"Slope: \" + str(test_slope)"
   ]
  },
  {
   "cell_type": "markdown",
   "metadata": {},
   "source": [
    "Now that we know it works let's build a regression model for predicting price based on sqft_living. Rembember that we train on train_data!"
   ]
  },
  {
   "cell_type": "code",
   "execution_count": 10,
   "metadata": {
    "collapsed": false
   },
   "outputs": [
    {
     "name": "stdout",
     "output_type": "stream",
     "text": [
      "Intercept: -47116.0765749\n",
      "Slope: 281.958838568\n"
     ]
    }
   ],
   "source": [
    "sqft_intercept, sqft_slope = simple_linear_regression(train_data['sqft_living'], train_data['price'])\n",
    "\n",
    "print \"Intercept: \" + str(sqft_intercept)\n",
    "print \"Slope: \" + str(sqft_slope)"
   ]
  },
  {
   "cell_type": "markdown",
   "metadata": {},
   "source": [
    "# Predicting Values"
   ]
  },
  {
   "cell_type": "markdown",
   "metadata": {},
   "source": [
    "Now that we have the model parameters: intercept & slope we can make predictions. Using SArrays it's easy to multiply an SArray by a constant and add a constant value. Complete the following function to return the predicted output given the input_feature, slope and intercept:"
   ]
  },
  {
   "cell_type": "code",
   "execution_count": 11,
   "metadata": {
    "collapsed": false
   },
   "outputs": [],
   "source": [
    "def get_regression_predictions(input_feature, intercept, slope):\n",
    "    # calculate the predicted values:\n",
    "    predicted_values = intercept + input_feature*slope\n",
    "    \n",
    "    return predicted_values"
   ]
  },
  {
   "cell_type": "markdown",
   "metadata": {},
   "source": [
    "Now that we can calculate a prediction given the slop and intercept let's make a prediction. Use (or alter) the following to find out the estimated price for a house with 2650 squarefeet according to the squarefeet model we estiamted above.\n",
    "\n",
    "**Quiz Question: Using your Slope and Intercept from (4), What is the predicted price for a house with 2650 sqft?**"
   ]
  },
  {
   "cell_type": "code",
   "execution_count": 16,
   "metadata": {
    "collapsed": false
   },
   "outputs": [
    {
     "name": "stdout",
     "output_type": "stream",
     "text": [
      "The estimated price for a house with 2650 squarefeet is $700074.85\n"
     ]
    }
   ],
   "source": [
    "my_house_sqft = 2650\n",
    "estimated_price = get_regression_predictions(my_house_sqft, sqft_intercept, sqft_slope)\n",
    "print \"The estimated price for a house with %d squarefeet is $%.2f\" % (my_house_sqft, estimated_price)"
   ]
  },
  {
   "cell_type": "markdown",
   "metadata": {},
   "source": [
    "# Residual Sum of Squares"
   ]
  },
  {
   "cell_type": "markdown",
   "metadata": {},
   "source": [
    "Now that we have a model and can make predictions let's evaluate our model using Residual Sum of Squares (RSS). Recall that RSS is the sum of the squares of the residuals and the residuals is just a fancy word for the difference between the predicted output and the true output. \n",
    "\n",
    "Complete the following (or write your own) function to compute the RSS of a simple linear regression model given the input_feature, output, intercept and slope:"
   ]
  },
  {
   "cell_type": "code",
   "execution_count": 31,
   "metadata": {
    "collapsed": true
   },
   "outputs": [],
   "source": [
    "def get_residual_sum_of_squares(input_feature, output, intercept, slope):\n",
    "    #print input_feature\n",
    "    #print output\n",
    "    #print intercept\n",
    "    #print slope\n",
    "    \n",
    "    # First get the predictions\n",
    "    output_hat = input_feature * slope + intercept\n",
    "\n",
    "    # then compute the residuals (since we are squaring it doesn't matter which order you subtract)\n",
    "    residuals = output - output_hat\n",
    "    print 'residuals = ', residuals\n",
    "\n",
    "    # square the residuals and add them up\n",
    "    residuals_sqr = residuals*residuals\n",
    "    print 'residual_sqr = ', residuals\n",
    "    \n",
    "    RSS = residuals_sqr.sum()\n",
    "    print 'RSS = ', RSS\n",
    "\n",
    "    return(RSS)"
   ]
  },
  {
   "cell_type": "markdown",
   "metadata": {},
   "source": [
    "Let's test our get_residual_sum_of_squares function by applying it to the test model where the data lie exactly on a line. Since they lie exactly on a line the residual sum of squares should be zero!"
   ]
  },
  {
   "cell_type": "code",
   "execution_count": 32,
   "metadata": {
    "collapsed": false
   },
   "outputs": [
    {
     "name": "stdout",
     "output_type": "stream",
     "text": [
      "residuals =  [0.0, 0.0, 0.0, 0.0, 0.0]\n",
      "residual_sqr =  [0.0, 0.0, 0.0, 0.0, 0.0]\n",
      "RSS =  0.0\n",
      "0.0\n"
     ]
    }
   ],
   "source": [
    "print get_residual_sum_of_squares(test_feature, test_output, test_intercept, test_slope) # should be 0.0"
   ]
  },
  {
   "cell_type": "markdown",
   "metadata": {},
   "source": [
    "Now use your function to calculate the RSS on training data from the squarefeet model calculated above.\n",
    "\n",
    "**Quiz Question: According to this function and the slope and intercept from the squarefeet model What is the RSS for the simple linear regression using squarefeet to predict prices on TRAINING data?**"
   ]
  },
  {
   "cell_type": "code",
   "execution_count": 33,
   "metadata": {
    "collapsed": false
   },
   "outputs": [
    {
     "name": "stdout",
     "output_type": "stream",
     "text": [
      "residuals =  [-63695.35293494281, -139518.1385440426, 10007.770877813251, 98476.75298225298, 83425.22778120835, -256100.8284619809, -178943.3315686611, 40089.70769318094, -225270.65607556142, -162786.12831800815, -294157.3887260633, 188043.82383641117, 60832.467737194616, 66770.57876740769, -90786.12831800815, 80981.93486662419, -102234.52970629674, -75332.47163468163, -24657.241904729803, 1187141.6189434626, -307930.4869737333, -1879.8806924960809, -314683.0779159189, 293316.9220840811, 319373.7025801637, 56538.641952039965, 41481.861455957405, -8414.941320619779, 77651.98271220492, -211219.1308745168, 94610.74786923581, 129064.40455256234, 21693.217555173906, -56873.70647765073, -52518.138544042595, -104535.94807593268, 289440.7000236551, -4791.236791712581, -355873.85329898424, -21533.173607080244, 186430.33625491278, 144667.52836531837, 620883.3939980688, -60414.94132061978, -496054.26491330727, 249554.11419448676, 73837.57621089905, 197368.44728512585, 134172.56342835608, -334224.3127588879, 81749.85122992296, -44507.77477530023, 90904.5736543904, -158138.23777709005, 161899.46518068603, 4064.404552562337, -416284.90625758213, 255188.0356708028, -297471.7218167024, -30842.76199275721, 469847.7931583079, -257827.58339297748, 16847.939979641407, -263945.95921618, -87502.73971226264, -69131.47930420743, 233878.88446453487, 59554.114194486756, -205641.91648361657, -225487.19405914913, -167440.77733180881, -70574.77221879165, 91435.59154995071, 383724.1620400674, -397894.4340151354, -272909.90625758213, -191837.65351905278, 91698.47285021184, 154500.96481664467, -138234.52970629674, 31621.111637978116, 301621.1116379781, 21651.909301538137, -80956.17616358883, -149229.4212325923, -169528.42890211812, 314291.28073980624, 43837.576210899046, 129576.22011168255, 311796.2679572633, -4054.118091973709, -237667.60567347216, 36244.81616688531, -114012.88324900466, -158234.6765276303, -6458.840516441152, 261847.9399796414, -114600.53481931397, -209408.30764587072, -447363.6363515754, ... ]\n",
      "residual_sqr =  [-63695.35293494281, -139518.1385440426, 10007.770877813251, 98476.75298225298, 83425.22778120835, -256100.8284619809, -178943.3315686611, 40089.70769318094, -225270.65607556142, -162786.12831800815, -294157.3887260633, 188043.82383641117, 60832.467737194616, 66770.57876740769, -90786.12831800815, 80981.93486662419, -102234.52970629674, -75332.47163468163, -24657.241904729803, 1187141.6189434626, -307930.4869737333, -1879.8806924960809, -314683.0779159189, 293316.9220840811, 319373.7025801637, 56538.641952039965, 41481.861455957405, -8414.941320619779, 77651.98271220492, -211219.1308745168, 94610.74786923581, 129064.40455256234, 21693.217555173906, -56873.70647765073, -52518.138544042595, -104535.94807593268, 289440.7000236551, -4791.236791712581, -355873.85329898424, -21533.173607080244, 186430.33625491278, 144667.52836531837, 620883.3939980688, -60414.94132061978, -496054.26491330727, 249554.11419448676, 73837.57621089905, 197368.44728512585, 134172.56342835608, -334224.3127588879, 81749.85122992296, -44507.77477530023, 90904.5736543904, -158138.23777709005, 161899.46518068603, 4064.404552562337, -416284.90625758213, 255188.0356708028, -297471.7218167024, -30842.76199275721, 469847.7931583079, -257827.58339297748, 16847.939979641407, -263945.95921618, -87502.73971226264, -69131.47930420743, 233878.88446453487, 59554.114194486756, -205641.91648361657, -225487.19405914913, -167440.77733180881, -70574.77221879165, 91435.59154995071, 383724.1620400674, -397894.4340151354, -272909.90625758213, -191837.65351905278, 91698.47285021184, 154500.96481664467, -138234.52970629674, 31621.111637978116, 301621.1116379781, 21651.909301538137, -80956.17616358883, -149229.4212325923, -169528.42890211812, 314291.28073980624, 43837.576210899046, 129576.22011168255, 311796.2679572633, -4054.118091973709, -237667.60567347216, 36244.81616688531, -114012.88324900466, -158234.6765276303, -6458.840516441152, 261847.9399796414, -114600.53481931397, -209408.30764587072, -447363.6363515754, ... ]\n",
      "RSS =  1.20191835632e+15\n",
      "The RSS of predicting Prices based on Square Feet is : 1.20191835632e+15\n"
     ]
    }
   ],
   "source": [
    "rss_prices_on_sqft = get_residual_sum_of_squares(train_data['sqft_living'], train_data['price'], sqft_intercept, sqft_slope)\n",
    "print 'The RSS of predicting Prices based on Square Feet is : ' + str(rss_prices_on_sqft)"
   ]
  },
  {
   "cell_type": "markdown",
   "metadata": {},
   "source": [
    "# Predict the squarefeet given price"
   ]
  },
  {
   "cell_type": "markdown",
   "metadata": {},
   "source": [
    "What if we want to predict the squarefoot given the price? Since we have an equation y = a + b\\*x we can solve the function for x. So that if we have the intercept (a) and the slope (b) and the price (y) we can solve for the estimated squarefeet (x).\n",
    "\n",
    "Comlplete the following function to compute the inverse regression estimate, i.e. predict the input_feature given the output!"
   ]
  },
  {
   "cell_type": "code",
   "execution_count": 34,
   "metadata": {
    "collapsed": true
   },
   "outputs": [],
   "source": [
    "def inverse_regression_predictions(output, intercept, slope):\n",
    "    # solve output = intercept + slope*input_feature for input_feature. Use this equation to compute the inverse predictions:\n",
    "    estimated_feature = (output - intercept)/slope\n",
    "    \n",
    "    return estimated_feature"
   ]
  },
  {
   "cell_type": "markdown",
   "metadata": {},
   "source": [
    "Now that we have a function to compute the squarefeet given the price from our simple regression model let's see how big we might expect a house that coses $800,000 to be.\n",
    "\n",
    "**Quiz Question: According to this function and the regression slope and intercept from (3) what is the estimated square-feet for a house costing $800,000?**"
   ]
  },
  {
   "cell_type": "code",
   "execution_count": 35,
   "metadata": {
    "collapsed": false
   },
   "outputs": [
    {
     "name": "stdout",
     "output_type": "stream",
     "text": [
      "The estimated squarefeet for a house worth $800000.00 is 3004\n"
     ]
    }
   ],
   "source": [
    "my_house_price = 800000\n",
    "estimated_squarefeet = inverse_regression_predictions(my_house_price, sqft_intercept, sqft_slope)\n",
    "print \"The estimated squarefeet for a house worth $%.2f is %d\" % (my_house_price, estimated_squarefeet)"
   ]
  },
  {
   "cell_type": "markdown",
   "metadata": {},
   "source": [
    "# New Model: estimate prices from bedrooms"
   ]
  },
  {
   "cell_type": "markdown",
   "metadata": {},
   "source": [
    "We have made one model for predicting house prices using squarefeet, but there are many other features in the sales SFrame. \n",
    "Use your simple linear regression function to estimate the regression parameters from predicting Prices based on number of bedrooms. Use the training data!"
   ]
  },
  {
   "cell_type": "code",
   "execution_count": 36,
   "metadata": {
    "collapsed": false
   },
   "outputs": [
    {
     "name": "stdout",
     "output_type": "stream",
     "text": [
      "Intercept: 109473.180469\n",
      "Slope: 127588.952175\n"
     ]
    }
   ],
   "source": [
    "# Estimate the slope and intercept for predicting 'price' based on 'bedrooms'\n",
    "\n",
    "bdr_intercept, bdr_slope = simple_linear_regression(train_data['bedrooms'], train_data['price'])\n",
    "\n",
    "print \"Intercept: \" + str(bdr_intercept)\n",
    "print \"Slope: \" + str(bdr_slope)\n"
   ]
  },
  {
   "cell_type": "markdown",
   "metadata": {},
   "source": [
    "# Test your Linear Regression Algorithm"
   ]
  },
  {
   "cell_type": "markdown",
   "metadata": {},
   "source": [
    "Now we have two models for predicting the price of a house. How do we know which one is better? Calculate the RSS on the TEST data (remember this data wasn't involved in learning the model). Compute the RSS from predicting prices using bedrooms and from predicting prices using squarefeet.\n",
    "\n",
    "**Quiz Question: Which model (square feet or bedrooms) has lowest RSS on TEST data? Think about why this might be the case.**"
   ]
  },
  {
   "cell_type": "code",
   "execution_count": 37,
   "metadata": {
    "collapsed": false
   },
   "outputs": [
    {
     "name": "stdout",
     "output_type": "stream",
     "text": [
      "residuals =  [-182240.03699303942, 30171.010832376312, -259240.03699303942, 88259.96300696058, 42759.96300696058, -14828.989167623688, 155171.0108323763, -327328.9891676237, -203240.03699303942, -48828.98916762369, -143240.03699303942, -259828.9891676237, -376328.9891676237, -244740.03699303942, -277417.94134220807, -139828.9891676237, 277759.9630069606, 27709.963006960577, -219717.94134220807, -72240.03699303942, 270171.0108323763, -209290.03699303942, -492417.94134220807, -72240.03699303942, 187271.0108323763, -208240.03699303942, 297671.0108323763, -67240.03699303942, -232240.03699303942, -195240.03699303942, -217990.03699303942, 220171.0108323763, 185659.96300696058, -84651.08481845516, -212290.03699303942, 115298.91518154484, -354878.9891676237, 277582.05865779193, 1780171.0108323763, -232240.03699303942, 32759.963006960577, 132837.86735612917, -282240.0369930394, -314928.9891676237, -194651.08481845516, 1302582.058657792, 160171.0108323763, -162240.03699303942, -259828.9891676237, 57759.96300696058, -283607.0369930394, -177240.03699303942, 764171.0108323763, 780171.0108323763, 183348.91518154484, 27759.963006960577, -262240.0369930394, -132651.08481845516, 120171.01083237631, 275348.91518154484, 320171.0108323763, 67659.96300696058, -227240.03699303942, -67240.03699303942, -67578.98916762369, -285640.0369930394, 61937.867356129165, 235171.0108323763, 72848.91518154484, -199828.9891676237, 47582.05865779193, 190171.0108323763, -281828.9891676237, -304828.9891676237, -42240.03699303942, 179171.0108323763, -215878.9891676237, -2240.0369930394227, -162240.03699303942, 307171.0108323763, -217417.94134220807, -12651.084818455158, -297328.9891676237, 157759.96300696058, -280828.9891676237, 77759.96300696058, -196828.9891676237, 117348.91518154484, 807759.9630069606, 368171.0108323763, 380171.0108323763, -142240.03699303942, -287240.0369930394, -158740.03699303942, -237240.03699303942, -144240.03699303942, -294828.9891676237, -151740.03699303942, -73751.08481845516, -49651.08481845516, ... ]\n",
      "residual_sqr =  [-182240.03699303942, 30171.010832376312, -259240.03699303942, 88259.96300696058, 42759.96300696058, -14828.989167623688, 155171.0108323763, -327328.9891676237, -203240.03699303942, -48828.98916762369, -143240.03699303942, -259828.9891676237, -376328.9891676237, -244740.03699303942, -277417.94134220807, -139828.9891676237, 277759.9630069606, 27709.963006960577, -219717.94134220807, -72240.03699303942, 270171.0108323763, -209290.03699303942, -492417.94134220807, -72240.03699303942, 187271.0108323763, -208240.03699303942, 297671.0108323763, -67240.03699303942, -232240.03699303942, -195240.03699303942, -217990.03699303942, 220171.0108323763, 185659.96300696058, -84651.08481845516, -212290.03699303942, 115298.91518154484, -354878.9891676237, 277582.05865779193, 1780171.0108323763, -232240.03699303942, 32759.963006960577, 132837.86735612917, -282240.0369930394, -314928.9891676237, -194651.08481845516, 1302582.058657792, 160171.0108323763, -162240.03699303942, -259828.9891676237, 57759.96300696058, -283607.0369930394, -177240.03699303942, 764171.0108323763, 780171.0108323763, 183348.91518154484, 27759.963006960577, -262240.0369930394, -132651.08481845516, 120171.01083237631, 275348.91518154484, 320171.0108323763, 67659.96300696058, -227240.03699303942, -67240.03699303942, -67578.98916762369, -285640.0369930394, 61937.867356129165, 235171.0108323763, 72848.91518154484, -199828.9891676237, 47582.05865779193, 190171.0108323763, -281828.9891676237, -304828.9891676237, -42240.03699303942, 179171.0108323763, -215878.9891676237, -2240.0369930394227, -162240.03699303942, 307171.0108323763, -217417.94134220807, -12651.084818455158, -297328.9891676237, 157759.96300696058, -280828.9891676237, 77759.96300696058, -196828.9891676237, 117348.91518154484, 807759.9630069606, 368171.0108323763, 380171.0108323763, -142240.03699303942, -287240.0369930394, -158740.03699303942, -237240.03699303942, -144240.03699303942, -294828.9891676237, -151740.03699303942, -73751.08481845516, -49651.08481845516, ... ]\n",
      "RSS =  4.93364582868e+14\n",
      "The RSS of predicting Prices based on bedrooms is : 4.93364582868e+14\n"
     ]
    }
   ],
   "source": [
    "# Compute RSS when using bedrooms on TEST data:\n",
    "rss_prices_on_bdr = get_residual_sum_of_squares(test_data['bedrooms'], test_data['price'], bdr_intercept, bdr_slope)\n",
    "print 'The RSS of predicting Prices based on bedrooms is : ' + str(rss_prices_on_bdr)\n"
   ]
  },
  {
   "cell_type": "code",
   "execution_count": 38,
   "metadata": {
    "collapsed": false
   },
   "outputs": [
    {
     "name": "stdout",
     "output_type": "stream",
     "text": [
      "residuals =  [-46085.06257686723, -134662.49719976773, -202033.53737582255, -26528.428902118118, 274780.94253615, -86616.08047242742, -367750.2221807437, -294791.31020237936, -19152.060020358593, -157270.7294862282, -108590.24446123838, -128605.71670368512, -267662.42378910095, -258023.24701774702, -55260.36571748578, -383610.971998723, -3384.143657059758, 237174.23545073415, -220307.84818596696, 168239.70769318094, 218121.03822731134, -22382.471634681628, -278719.1308745168, -102440.77733180881, 98566.38921351067, -108739.7115906679, -129384.21706772665, 156322.17737911904, -163755.1838331147, -202884.0702463931, 64783.533478335565, 187858.1569270502, 37036.51046975807, 87451.06379239744, -166361.89091853047, 101308.23033771699, -172903.12576149957, 11950.84356039716, 1417966.3158028438, -203229.4212325923, -19997.484417224652, 202727.35926349022, -222213.94899014558, -381076.9037010735, -25368.52459327955, 1017213.7248606584, -159739.8584120014, -305224.3127588879, -201915.01473128656, 41657.16459657601, -319446.95410316286, -258193.36827399442, 221512.6591195173, 237512.6591195173, 180636.58388042485, -5260.36571748578, -131724.23934822116, -70512.88324900466, 209100.45751116017, 385420.1193075039, 285038.56854137324, -219123.3204284137, -88265.47419119027, -232781.01984430372, -128087.72692971956, -138206.7090341593, 188219.12697702975, 262069.5130262667, 205476.82639291976, -26311.890918530466, -15038.792670860537, -135379.03518335533, -204177.8960315477, -252554.1915026405, 34703.58132391627, 138399.3917700193, -146686.66118857858, -21162.423789100954, -74018.06513337581, 43651.90930153814, -189811.9643291972, 134074.76832130464, -143549.00961826934, 271358.230337717, -287765.547601857, -203384.14365705976, -150193.36827399442, 261255.17993562768, 684512.8059408509, -103997.6312385581, 311203.50791324954, 44667.52836531837, -12925.23167869536, 36626.29352234927, -47512.88324900466, -329518.1385440426, -149507.77477530023, -252430.4869737333, -115937.65351905278, 184482.00827729094, ... ]\n",
      "residual_sqr =  [-46085.06257686723, -134662.49719976773, -202033.53737582255, -26528.428902118118, 274780.94253615, -86616.08047242742, -367750.2221807437, -294791.31020237936, -19152.060020358593, -157270.7294862282, -108590.24446123838, -128605.71670368512, -267662.42378910095, -258023.24701774702, -55260.36571748578, -383610.971998723, -3384.143657059758, 237174.23545073415, -220307.84818596696, 168239.70769318094, 218121.03822731134, -22382.471634681628, -278719.1308745168, -102440.77733180881, 98566.38921351067, -108739.7115906679, -129384.21706772665, 156322.17737911904, -163755.1838331147, -202884.0702463931, 64783.533478335565, 187858.1569270502, 37036.51046975807, 87451.06379239744, -166361.89091853047, 101308.23033771699, -172903.12576149957, 11950.84356039716, 1417966.3158028438, -203229.4212325923, -19997.484417224652, 202727.35926349022, -222213.94899014558, -381076.9037010735, -25368.52459327955, 1017213.7248606584, -159739.8584120014, -305224.3127588879, -201915.01473128656, 41657.16459657601, -319446.95410316286, -258193.36827399442, 221512.6591195173, 237512.6591195173, 180636.58388042485, -5260.36571748578, -131724.23934822116, -70512.88324900466, 209100.45751116017, 385420.1193075039, 285038.56854137324, -219123.3204284137, -88265.47419119027, -232781.01984430372, -128087.72692971956, -138206.7090341593, 188219.12697702975, 262069.5130262667, 205476.82639291976, -26311.890918530466, -15038.792670860537, -135379.03518335533, -204177.8960315477, -252554.1915026405, 34703.58132391627, 138399.3917700193, -146686.66118857858, -21162.423789100954, -74018.06513337581, 43651.90930153814, -189811.9643291972, 134074.76832130464, -143549.00961826934, 271358.230337717, -287765.547601857, -203384.14365705976, -150193.36827399442, 261255.17993562768, 684512.8059408509, -103997.6312385581, 311203.50791324954, 44667.52836531837, -12925.23167869536, 36626.29352234927, -47512.88324900466, -329518.1385440426, -149507.77477530023, -252430.4869737333, -115937.65351905278, 184482.00827729094, ... ]\n",
      "RSS =  2.75402936247e+14\n",
      "The RSS of predicting Prices based on sqft is : 2.75402936247e+14\n"
     ]
    }
   ],
   "source": [
    "# Compute RSS when using squarfeet on TEST data:\n",
    "rss_prices_on_sqft = get_residual_sum_of_squares(test_data['sqft_living'], test_data['price'], sqft_intercept, sqft_slope)\n",
    "print 'The RSS of predicting Prices based on sqft is : ' + str(rss_prices_on_sqft)\n"
   ]
  },
  {
   "cell_type": "code",
   "execution_count": null,
   "metadata": {
    "collapsed": true
   },
   "outputs": [],
   "source": []
  }
 ],
 "metadata": {
  "kernelspec": {
   "display_name": "Python 2",
   "language": "python",
   "name": "python2"
  },
  "language_info": {
   "codemirror_mode": {
    "name": "ipython",
    "version": 2
   },
   "file_extension": ".py",
   "mimetype": "text/x-python",
   "name": "python",
   "nbconvert_exporter": "python",
   "pygments_lexer": "ipython2",
   "version": "2.7.10"
  }
 },
 "nbformat": 4,
 "nbformat_minor": 0
}
