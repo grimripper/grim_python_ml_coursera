{
 "cells": [
  {
   "cell_type": "markdown",
   "metadata": {},
   "source": [
    "# Regression Week 5: LASSO (coordinate descent)"
   ]
  },
  {
   "cell_type": "markdown",
   "metadata": {},
   "source": [
    "In this notebook, you will implement your very own LASSO solver via coordinate descent. You will:\n",
    "* Write a function to normalize features\n",
    "* Implement coordinate descent for LASSO\n",
    "* Explore effects of L1 penalty"
   ]
  },
  {
   "cell_type": "markdown",
   "metadata": {},
   "source": [
    "# Fire up graphlab create"
   ]
  },
  {
   "cell_type": "markdown",
   "metadata": {},
   "source": [
    "Make sure you have the latest version of graphlab (>= 1.7)"
   ]
  },
  {
   "cell_type": "code",
   "execution_count": 2,
   "metadata": {
    "collapsed": false
   },
   "outputs": [
    {
     "name": "stderr",
     "output_type": "stream",
     "text": [
      "A newer version of GraphLab Create (v1.8) is available! Your current version is v1.7.1.\n",
      "\n",
      "You can use pip to upgrade the graphlab-create package. For more information see https://dato.com/products/create/upgrade.\n"
     ]
    }
   ],
   "source": [
    "import graphlab"
   ]
  },
  {
   "cell_type": "markdown",
   "metadata": {},
   "source": [
    "# Load in house sales data\n",
    "\n",
    "Dataset is from house sales in King County, the region where the city of Seattle, WA is located."
   ]
  },
  {
   "cell_type": "code",
   "execution_count": 3,
   "metadata": {
    "collapsed": false
   },
   "outputs": [
    {
     "name": "stderr",
     "output_type": "stream",
     "text": [
      "[INFO] \u001b[1;32m1453095254 : INFO:     (initialize_globals_from_environment:282): Setting configuration variable GRAPHLAB_FILEIO_ALTERNATIVE_SSL_CERT_FILE to C:\\Python27\\lib\\site-packages\\certifi\\cacert.pem\n",
      "\u001b[0m\u001b[1;32m1453095254 : INFO:     (initialize_globals_from_environment:282): Setting configuration variable GRAPHLAB_FILEIO_ALTERNATIVE_SSL_CERT_DIR to \n",
      "\u001b[0mThis non-commercial license of GraphLab Create is assigned to vthukral@gmail.com and will expire on September 26, 2016. For commercial licensing options, visit https://dato.com/buy/.\n",
      "\n",
      "[INFO] Start server at: ipc:///tmp/graphlab_server-18776 - Server binary: C:\\Python27\\lib\\site-packages\\graphlab\\unity_server.exe - Server log: C:\\Users\\vaibhavt\\AppData\\Local\\Temp\\graphlab_server_1453095254.log.0\n",
      "[INFO] GraphLab Server Version: 1.7.1\n"
     ]
    }
   ],
   "source": [
    "sales = graphlab.SFrame('kc_house_data5b.gl/')\n",
    "# In the dataset, 'floors' was defined with type string, \n",
    "# so we'll convert them to int, before using it below\n",
    "sales['floors'] = sales['floors'].astype(int) "
   ]
  },
  {
   "cell_type": "markdown",
   "metadata": {},
   "source": [
    "If we want to do any \"feature engineering\" like creating new features or adjusting existing ones we should do this directly using the SFrames as seen in the first notebook of Week 2. For this notebook, however, we will work with the existing features."
   ]
  },
  {
   "cell_type": "markdown",
   "metadata": {},
   "source": [
    "# Import useful functions from previous notebook"
   ]
  },
  {
   "cell_type": "markdown",
   "metadata": {},
   "source": [
    "As in Week 2, we convert the SFrame into a 2D Numpy array. Copy and paste `get_num_data()` from the second notebook of Week 2."
   ]
  },
  {
   "cell_type": "code",
   "execution_count": 4,
   "metadata": {
    "collapsed": true
   },
   "outputs": [],
   "source": [
    "import numpy as np # note this allows us to refer to numpy as np instead "
   ]
  },
  {
   "cell_type": "code",
   "execution_count": 5,
   "metadata": {
    "collapsed": true
   },
   "outputs": [],
   "source": [
    "def get_numpy_data(data_sframe, features, output):\n",
    "    data_sframe['constant'] = 1 # this is how you add a constant column to an SFrame\n",
    "    # add the column 'constant' to the front of the features list so that we can extract it along with the others:\n",
    "    features = ['constant'] + features # this is how you combine two lists\n",
    "    # select the columns of data_SFrame given by the features list into the SFrame features_sframe (now including constant):\n",
    "    features_sframe = data_sframe[features]\n",
    "    \n",
    "    # the following line will convert the features_SFrame into a numpy matrix:\n",
    "    feature_matrix = features_sframe.to_numpy()\n",
    "    \n",
    "    # assign the column of data_sframe associated with the output to the SArray output_sarray\n",
    "    output_sarray = data_sframe[output]        \n",
    "\n",
    "    # the following will convert the SArray into a numpy array by first converting it to a list\n",
    "    output_array = output_sarray.to_numpy()\n",
    "    return(feature_matrix, output_array)"
   ]
  },
  {
   "cell_type": "markdown",
   "metadata": {},
   "source": [
    "Also, copy and paste the `predict_output()` function to compute the predictions for an entire matrix of features given the matrix and the weights:"
   ]
  },
  {
   "cell_type": "code",
   "execution_count": 6,
   "metadata": {
    "collapsed": true
   },
   "outputs": [],
   "source": [
    "def predict_output(feature_matrix, weights):\n",
    "    # assume feature_matrix is a numpy matrix containing the features as columns and weights is a corresponding numpy array\n",
    "    # create the predictions vector by using np.dot()\n",
    "    predictions = np.dot(feature_matrix, weights)\n",
    "    return(predictions)"
   ]
  },
  {
   "cell_type": "markdown",
   "metadata": {},
   "source": [
    "# Normalize features\n",
    "In the house dataset, features vary wildly in their relative magnitude: `sqft_living` is very large overall compared to `bedrooms`, for instance. As a result, weight for `sqft_living` would be much smaller than weight for `bedrooms`. This is problematic because \"small\" weights are dropped first as `l1_penalty` goes up. \n",
    "\n",
    "To give equal considerations for all features, we need to **normalize features** as discussed in the lectures: we divide each feature by its 2-norm so that the transformed feature has norm 1.\n",
    "\n",
    "Let's see how we can do this normalization easily with Numpy: let us first consider a small matrix."
   ]
  },
  {
   "cell_type": "code",
   "execution_count": 7,
   "metadata": {
    "collapsed": false
   },
   "outputs": [
    {
     "name": "stdout",
     "output_type": "stream",
     "text": [
      "[[  3.   5.   8.]\n",
      " [  4.  12.  15.]]\n"
     ]
    }
   ],
   "source": [
    "X = np.array([[3.,5.,8.],[4.,12.,15.]])\n",
    "print X"
   ]
  },
  {
   "cell_type": "markdown",
   "metadata": {},
   "source": [
    "Numpy provides a shorthand for computing 2-norms of each column:"
   ]
  },
  {
   "cell_type": "code",
   "execution_count": 8,
   "metadata": {
    "collapsed": false
   },
   "outputs": [
    {
     "name": "stdout",
     "output_type": "stream",
     "text": [
      "[  5.  13.  17.]\n"
     ]
    }
   ],
   "source": [
    "norms = np.linalg.norm(X, axis=0) # gives [norm(X[:,0]), norm(X[:,1]), norm(X[:,2])]\n",
    "print norms"
   ]
  },
  {
   "cell_type": "markdown",
   "metadata": {},
   "source": [
    "To normalize, apply element-wise division:"
   ]
  },
  {
   "cell_type": "code",
   "execution_count": 9,
   "metadata": {
    "collapsed": false
   },
   "outputs": [
    {
     "name": "stdout",
     "output_type": "stream",
     "text": [
      "[[ 0.6         0.38461538  0.47058824]\n",
      " [ 0.8         0.92307692  0.88235294]]\n"
     ]
    }
   ],
   "source": [
    "print X / norms # gives [X[:,0]/norm(X[:,0]), X[:,1]/norm(X[:,1]), X[:,2]/norm(X[:,2])]"
   ]
  },
  {
   "cell_type": "markdown",
   "metadata": {},
   "source": [
    "Using the shorthand we just covered, write a short function called `normalize_features(feature_matrix)`, which normalizes columns of a given feature matrix. The function should return a pair `(normalized_features, norms)`, where the second item contains the norms of original features. As discussed in the lectures, we will use these norms to normalize the test data in the same way as we normalized the training data. "
   ]
  },
  {
   "cell_type": "code",
   "execution_count": 10,
   "metadata": {
    "collapsed": true
   },
   "outputs": [],
   "source": [
    "def normalize_features(feature_matrix):\n",
    "    norms = np.linalg.norm(feature_matrix, axis=0)\n",
    "    normalized_features = feature_matrix/norms\n",
    "    return (normalized_features, norms)"
   ]
  },
  {
   "cell_type": "markdown",
   "metadata": {},
   "source": [
    "To test the function, run the following:"
   ]
  },
  {
   "cell_type": "code",
   "execution_count": 11,
   "metadata": {
    "collapsed": false
   },
   "outputs": [
    {
     "name": "stdout",
     "output_type": "stream",
     "text": [
      "[[ 0.6  0.6  0.6]\n",
      " [ 0.8  0.8  0.8]]\n",
      "[  5.  10.  15.]\n"
     ]
    }
   ],
   "source": [
    "features, norms = normalize_features(np.array([[3.,6.,9.],[4.,8.,12.]]))\n",
    "print features\n",
    "# should print\n",
    "# [[ 0.6  0.6  0.6]\n",
    "#  [ 0.8  0.8  0.8]]\n",
    "print norms\n",
    "# should print\n",
    "# [5.  10.  15.]"
   ]
  },
  {
   "cell_type": "markdown",
   "metadata": {},
   "source": [
    "# Implementing Coordinate Descent with normalized features"
   ]
  },
  {
   "cell_type": "markdown",
   "metadata": {},
   "source": [
    "We seek to obtain a sparse set of weights by minimizing the LASSO cost function\n",
    "```\n",
    "SUM[ (prediction - output)^2 ] + lambda*( |w[1]| + ... + |w[k]|).\n",
    "```\n",
    "(By convention, we do not include `w[0]` in the L1 penalty term. We never want to push the intercept to zero.)\n",
    "\n",
    "The absolute value sign makes the cost function non-differentiable, so simple gradient descent is not viable (you would need to implement a method called subgradient descent). Instead, we will use **coordinate descent**: at each iteration, we will fix all weights but weight `i` and find the value of weight `i` that minimizes the objective. That is, we look for\n",
    "```\n",
    "argmin_{w[i]} [ SUM[ (prediction - output)^2 ] + lambda*( |w[1]| + ... + |w[k]|) ]\n",
    "```\n",
    "where all weights other than `w[i]` are held to be constant. We will optimize one `w[i]` at a time, circling through the weights multiple times.  \n",
    "  1. Pick a coordinate `i`\n",
    "  2. Compute `w[i]` that minimizes the cost function `SUM[ (prediction - output)^2 ] + lambda*( |w[1]| + ... + |w[k]|)`\n",
    "  3. Repeat Steps 1 and 2 for all coordinates, multiple times"
   ]
  },
  {
   "cell_type": "markdown",
   "metadata": {},
   "source": [
    "For this notebook, we use **cyclical coordinate descent with normalized features**, where we cycle through coordinates 0 to (d-1) in order, and assume the features were normalized as discussed above. The formula for optimizing each coordinate is as follows:\n",
    "```\n",
    "       ┌ (ro[i] + lambda/2)     if ro[i] < -lambda/2\n",
    "w[i] = ├ 0                      if -lambda/2 <= ro[i] <= lambda/2\n",
    "       └ (ro[i] - lambda/2)     if ro[i] > lambda/2\n",
    "```\n",
    "where\n",
    "```\n",
    "ro[i] = SUM[ [feature_i]*(output - prediction + w[i]*[feature_i]) ].\n",
    "```\n",
    "\n",
    "Note that we do not regularize the weight of the constant feature (intercept) `w[0]`, so, for this weight, the update is simply:\n",
    "```\n",
    "w[0] = ro[i]\n",
    "```"
   ]
  },
  {
   "cell_type": "markdown",
   "metadata": {},
   "source": [
    "## Effect of L1 penalty"
   ]
  },
  {
   "cell_type": "markdown",
   "metadata": {},
   "source": [
    "Let us consider a simple model with 2 features:"
   ]
  },
  {
   "cell_type": "code",
   "execution_count": 12,
   "metadata": {
    "collapsed": false
   },
   "outputs": [
    {
     "name": "stdout",
     "output_type": "stream",
     "text": [
      "[[  1.00000000e+00   1.18000000e+03   3.00000000e+00]\n",
      " [  1.00000000e+00   2.57000000e+03   3.00000000e+00]\n",
      " [  1.00000000e+00   7.70000000e+02   2.00000000e+00]\n",
      " ..., \n",
      " [  1.00000000e+00   1.02000000e+03   2.00000000e+00]\n",
      " [  1.00000000e+00   1.60000000e+03   3.00000000e+00]\n",
      " [  1.00000000e+00   1.02000000e+03   2.00000000e+00]]\n",
      "[ 1.  1.  1. ...,  1.  1.  1.]\n",
      "[ 221900.  538000.  180000. ...,  402101.  400000.  325000.]\n"
     ]
    }
   ],
   "source": [
    "simple_features = ['sqft_living', 'bedrooms']\n",
    "my_output = 'price'\n",
    "(simple_feature_matrix, output) = get_numpy_data(sales, simple_features, my_output)\n",
    "print simple_feature_matrix\n",
    "print simple_feature_matrix[:,0]\n",
    "print output"
   ]
  },
  {
   "cell_type": "markdown",
   "metadata": {},
   "source": [
    "Don't forget to normalize features:"
   ]
  },
  {
   "cell_type": "code",
   "execution_count": 13,
   "metadata": {
    "collapsed": false
   },
   "outputs": [
    {
     "name": "stdout",
     "output_type": "stream",
     "text": [
      "[[ 0.00680209  0.00353021  0.00583571]\n",
      " [ 0.00680209  0.00768869  0.00583571]\n",
      " [ 0.00680209  0.00230361  0.00389048]\n",
      " ..., \n",
      " [ 0.00680209  0.00305154  0.00389048]\n",
      " [ 0.00680209  0.00478673  0.00583571]\n",
      " [ 0.00680209  0.00305154  0.00389048]]\n",
      "[  1.47013605e+02   3.34257264e+05   5.14075870e+02]\n"
     ]
    }
   ],
   "source": [
    "(norm_feature_matrix, norms) = normalize_features(simple_feature_matrix)\n",
    "print norm_feature_matrix\n",
    "print norms"
   ]
  },
  {
   "cell_type": "markdown",
   "metadata": {},
   "source": [
    "We assign some random set of initial weights and inspect the values of `ro[i]`:"
   ]
  },
  {
   "cell_type": "code",
   "execution_count": 14,
   "metadata": {
    "collapsed": false
   },
   "outputs": [],
   "source": [
    "weights = np.array([1., 4., 1.])"
   ]
  },
  {
   "cell_type": "markdown",
   "metadata": {},
   "source": [
    "Use `predict_output()` to make predictions on this data."
   ]
  },
  {
   "cell_type": "code",
   "execution_count": 15,
   "metadata": {
    "collapsed": false
   },
   "outputs": [],
   "source": [
    "prediction = predict_output(norm_feature_matrix, weights)"
   ]
  },
  {
   "cell_type": "markdown",
   "metadata": {},
   "source": [
    "Compute the values of `ro[i]` for each feature in this simple model, using the formula given above, using the formula:\n",
    "```\n",
    "ro[i] = SUM[ [feature_i]*(output - prediction + w[i]*[feature_i]) ]\n",
    "```\n",
    "\n",
    "*Hint: You can get a Numpy vector for feature_i using:*\n",
    "```\n",
    "simple_feature_matrix[:,i]\n",
    "```"
   ]
  },
  {
   "cell_type": "code",
   "execution_count": 16,
   "metadata": {
    "collapsed": false
   },
   "outputs": [
    {
     "name": "stdout",
     "output_type": "stream",
     "text": [
      "79400300.0349\n",
      "87939470.773\n",
      "80966698.676\n"
     ]
    }
   ],
   "source": [
    "feature_0 = norm_feature_matrix[:,0]\n",
    "right = output - prediction + weights[0]*feature_0\n",
    "ro_0 = np.dot(feature_0, right)\n",
    "\n",
    "feature_1 = norm_feature_matrix[:,1]\n",
    "right = output - prediction + weights[1]*feature_1\n",
    "ro_1 = np.dot(feature_1, right)\n",
    "\n",
    "feature_2 = norm_feature_matrix[:,2]\n",
    "right = output - prediction + weights[2]*feature_2\n",
    "ro_2 = np.dot(feature_2, right)\n",
    "\n",
    "print ro_0\n",
    "print ro_1\n",
    "print ro_2"
   ]
  },
  {
   "cell_type": "markdown",
   "metadata": {},
   "source": [
    "***QUIZ QUESTION***\n",
    "\n",
    "Recall that, whenever `ro[i]` falls between `-l1_penalty/2` and `l1_penalty/2`, the corresponding weight `w[i]` is sent to zero. Now suppose we were to take one step of coordinate descent on either feature 1 or feature 2. What range of values of `l1_penalty` **would not** set `w[1]` zero, but **would** set `w[2]` to zero, if we were to take a step in that coordinate? "
   ]
  },
  {
   "cell_type": "code",
   "execution_count": 17,
   "metadata": {
    "collapsed": false
   },
   "outputs": [
    {
     "name": "stdout",
     "output_type": "stream",
     "text": [
      "175878941.546\n",
      "161933397.352\n"
     ]
    }
   ],
   "source": [
    "print ro_1*2\n",
    "print ro_2*2"
   ]
  },
  {
   "cell_type": "markdown",
   "metadata": {},
   "source": [
    "***QUIZ QUESTION***\n",
    "\n",
    "What range of values of `l1_penalty` would set **both** `w[1]` and `w[2]` to zero, if we were to take a step in that coordinate? "
   ]
  },
  {
   "cell_type": "code",
   "execution_count": null,
   "metadata": {
    "collapsed": false
   },
   "outputs": [],
   "source": []
  },
  {
   "cell_type": "markdown",
   "metadata": {},
   "source": [
    "So we can say that `ro[i]` quantifies the significance of the i-th feature: the larger `ro[i]` is, the more likely it is for the i-th feature to be retained."
   ]
  },
  {
   "cell_type": "markdown",
   "metadata": {},
   "source": [
    "## Single Coordinate Descent Step"
   ]
  },
  {
   "cell_type": "markdown",
   "metadata": {},
   "source": [
    "Using the formula above, implement coordinate descent that minimizes the cost function over a single feature i. Note that the intercept (weight 0) is not regularized. The function should accept feature matrix, output, current weights, l1 penalty, and index of feature to optimize over. The function should return new weight for feature i."
   ]
  },
  {
   "cell_type": "code",
   "execution_count": 18,
   "metadata": {
    "collapsed": true
   },
   "outputs": [],
   "source": [
    "def lasso_coordinate_descent_step(i, feature_matrix, output, weights, l1_penalty):\n",
    "    # compute prediction\n",
    "    prediction = predict_output(feature_matrix, weights)\n",
    "    # compute ro[i] = SUM[ [feature_i]*(output - prediction + weight[i]*[feature_i]) ]\n",
    "    left = feature_matrix[:,i]\n",
    "    right = (output - prediction + weights[i]*left)\n",
    "    ro_i = np.dot(left, right)\n",
    "\n",
    "    if i == 0: # intercept -- do not regularize\n",
    "        new_weight_i = ro_i \n",
    "    elif ro_i < -l1_penalty/2.:\n",
    "        new_weight_i = ro_i + l1_penalty/2.\n",
    "    elif ro_i > l1_penalty/2.:\n",
    "        new_weight_i = ro_i - l1_penalty/2.\n",
    "    else:\n",
    "        new_weight_i = 0.\n",
    "    \n",
    "    return new_weight_i"
   ]
  },
  {
   "cell_type": "markdown",
   "metadata": {},
   "source": [
    "To test the function, run the following cell:"
   ]
  },
  {
   "cell_type": "code",
   "execution_count": 19,
   "metadata": {
    "collapsed": false
   },
   "outputs": [
    {
     "name": "stdout",
     "output_type": "stream",
     "text": [
      "0.425558846691\n"
     ]
    }
   ],
   "source": [
    "# should print 0.425558846691\n",
    "import math\n",
    "print lasso_coordinate_descent_step(1, np.array([[3./math.sqrt(13),1./math.sqrt(10)],[2./math.sqrt(13),3./math.sqrt(10)]]), np.array([1., 1.]), np.array([1., 4.]), 0.1)"
   ]
  },
  {
   "cell_type": "markdown",
   "metadata": {
    "collapsed": true
   },
   "source": [
    "## Cyclical coordinate descent "
   ]
  },
  {
   "cell_type": "markdown",
   "metadata": {},
   "source": [
    "Now that we have a function that optimizes the cost function over a single coordinate, let us implement cyclical coordinate descent where we optimize coordinates 0, 1, ..., (d-1) in order and repeat.\n",
    "\n",
    "When do we know to stop? Each time we scan all the coordinates (features) once, we measure the change in weight for each coordinate. If no coordinate changes by more than a specified threshold, we stop."
   ]
  },
  {
   "cell_type": "markdown",
   "metadata": {},
   "source": [
    "For each iteration:\n",
    "1. As you loop over features in order and perform coordinate descent, measure how much each coordinate changes.\n",
    "2. After the loop, if the maximum change across all coordinates is falls below the tolerance, stop. Otherwise, go back to step 1.\n",
    "\n",
    "Return weights\n",
    "\n",
    "**IMPORTANT: when computing a new weight for coordinate i, make sure to incorporate the new weights for coordinates 0, 1, ..., i-1. One good way is to update your weights variable in-place. See following pseudocode for illustration.**\n",
    "```\n",
    "for i in range(len(weights)):\n",
    "    old_weights_i = weights[i] # remember old value of weight[i], as it will be overwritten\n",
    "    # the following line uses new values for weight[0], weight[1], ..., weight[i-1]\n",
    "    #     and old values for weight[i], ..., weight[d-1]\n",
    "    weights[i] = lasso_coordinate_descent_step(i, feature_matrix, output, weights, l1_penalty)\n",
    "    \n",
    "    # use old_weights_i to compute change in coordinate\n",
    "    ...\n",
    "```"
   ]
  },
  {
   "cell_type": "code",
   "execution_count": 20,
   "metadata": {
    "collapsed": false
   },
   "outputs": [],
   "source": [
    "def lasso_cyclical_coordinate_descent(feature_matrix, output, initial_weights, l1_penalty, tolerance):\n",
    "    weights = np.array(initial_weights)\n",
    "    iterCount = 0\n",
    "    while True:\n",
    "        max_change = 0\n",
    "        for i in range(len(weights)):\n",
    "            old_weights_i = weights[i]\n",
    "            weights[i] = lasso_coordinate_descent_step(i, feature_matrix, output, weights, l1_penalty)\n",
    "            change_i = abs(weights[i] - old_weights_i)\n",
    "            #print change_i\n",
    "            if (change_i > max_change):\n",
    "                max_change = change_i\n",
    "        if (max_change < tolerance):\n",
    "            break\n",
    "        print 'iter_count = ', iterCount, ':max_change = ', max_change\n",
    "        iterCount = iterCount + 1\n",
    "            \n",
    "    return weights\n"
   ]
  },
  {
   "cell_type": "markdown",
   "metadata": {},
   "source": [
    "Using the following parameters, learn the weights on the sales dataset. "
   ]
  },
  {
   "cell_type": "code",
   "execution_count": 21,
   "metadata": {
    "collapsed": false
   },
   "outputs": [],
   "source": [
    "simple_features = ['sqft_living', 'bedrooms']\n",
    "my_output = 'price'\n",
    "initial_weights = np.zeros(3)\n",
    "l1_penalty = 1e7\n",
    "tolerance = 1.0"
   ]
  },
  {
   "cell_type": "markdown",
   "metadata": {},
   "source": [
    "First create a normalized version of the feature matrix, `normalized_simple_feature_matrix`"
   ]
  },
  {
   "cell_type": "code",
   "execution_count": 22,
   "metadata": {
    "collapsed": true
   },
   "outputs": [],
   "source": [
    "(simple_feature_matrix, output) = get_numpy_data(sales, simple_features, my_output)\n",
    "(normalized_simple_feature_matrix, simple_norms) = normalize_features(simple_feature_matrix) # normalize features"
   ]
  },
  {
   "cell_type": "markdown",
   "metadata": {},
   "source": [
    "Then, run your implementation of LASSO coordinate descent:"
   ]
  },
  {
   "cell_type": "code",
   "execution_count": 23,
   "metadata": {
    "collapsed": false
   },
   "outputs": [
    {
     "name": "stdout",
     "output_type": "stream",
     "text": [
      "iter_count =  0 :max_change =  79400304.6581\n",
      "iter_count =  1 :max_change =  9138168.3665\n",
      "iter_count =  2 :max_change =  8194809.40937\n",
      "iter_count =  3 :max_change =  6598905.03827\n",
      "iter_count =  4 :max_change =  5522173.1943\n",
      "iter_count =  5 :max_change =  4621129.81031\n",
      "iter_count =  6 :max_change =  3867108.10625\n",
      "iter_count =  7 :max_change =  3236118.81061\n",
      "iter_count =  8 :max_change =  2708086.93955\n",
      "iter_count =  9 :max_change =  2266213.1094\n",
      "iter_count =  10 :max_change =  1896439.06265\n",
      "iter_count =  11 :max_change =  1587000.40319\n",
      "iter_count =  12 :max_change =  1328052.31095\n",
      "iter_count =  13 :max_change =  1111356.328\n",
      "iter_count =  14 :max_change =  930018.251241\n",
      "iter_count =  15 :max_change =  778268.79269\n",
      "iter_count =  16 :max_change =  651280.029038\n",
      "iter_count =  17 :max_change =  545011.800818\n",
      "iter_count =  18 :max_change =  456083.174344\n",
      "iter_count =  19 :max_change =  381664.876995\n",
      "iter_count =  20 :max_change =  319389.283634\n",
      "iter_count =  21 :max_change =  267275.090397\n",
      "iter_count =  22 :max_change =  223664.279321\n",
      "iter_count =  23 :max_change =  187169.368346\n",
      "iter_count =  24 :max_change =  156629.268444\n",
      "iter_count =  25 :max_change =  131072.343461\n",
      "iter_count =  26 :max_change =  109685.497423\n",
      "iter_count =  27 :max_change =  91788.3058116\n",
      "iter_count =  28 :max_change =  76811.3677895\n",
      "iter_count =  29 :max_change =  64278.1906641\n",
      "iter_count =  30 :max_change =  53790.0302253\n",
      "iter_count =  31 :max_change =  45013.2046616\n",
      "iter_count =  32 :max_change =  37668.4784415\n",
      "iter_count =  33 :max_change =  31522.1784089\n",
      "iter_count =  34 :max_change =  26378.7594496\n",
      "iter_count =  35 :max_change =  22074.5832053\n",
      "iter_count =  36 :max_change =  18472.7119037\n",
      "iter_count =  37 :max_change =  15458.5516701\n",
      "iter_count =  38 :max_change =  12936.2067131\n",
      "iter_count =  39 :max_change =  10825.4283904\n",
      "iter_count =  40 :max_change =  9059.06209099\n",
      "iter_count =  41 :max_change =  7580.91070477\n",
      "iter_count =  42 :max_change =  6343.94670621\n",
      "iter_count =  43 :max_change =  5308.81596929\n",
      "iter_count =  44 :max_change =  4442.58571219\n",
      "iter_count =  45 :max_change =  3717.69673771\n",
      "iter_count =  46 :max_change =  3111.08663486\n",
      "iter_count =  47 :max_change =  2603.45604623\n",
      "iter_count =  48 :max_change =  2178.65465673\n",
      "iter_count =  49 :max_change =  1823.16737022\n",
      "iter_count =  50 :max_change =  1525.68432524\n",
      "iter_count =  51 :max_change =  1276.74107068\n",
      "iter_count =  52 :max_change =  1068.41745344\n",
      "iter_count =  53 :max_change =  894.085638054\n",
      "iter_count =  54 :max_change =  748.199241433\n",
      "iter_count =  55 :max_change =  626.116874106\n",
      "iter_count =  56 :max_change =  523.954474062\n",
      "iter_count =  57 :max_change =  438.461734902\n",
      "iter_count =  58 :max_change =  366.918697156\n",
      "iter_count =  59 :max_change =  307.049212281\n",
      "iter_count =  60 :max_change =  256.948526993\n",
      "iter_count =  61 :max_change =  215.022683285\n",
      "iter_count =  62 :max_change =  179.937806502\n",
      "iter_count =  63 :max_change =  150.577667959\n",
      "iter_count =  64 :max_change =  126.008172065\n",
      "iter_count =  65 :max_change =  105.447638035\n",
      "iter_count =  66 :max_change =  88.2419305891\n",
      "iter_count =  67 :max_change =  73.8436484262\n",
      "iter_count =  68 :max_change =  61.7947089113\n",
      "iter_count =  69 :max_change =  51.7117738575\n",
      "iter_count =  70 :max_change =  43.2740537971\n",
      "iter_count =  71 :max_change =  36.2131017856\n",
      "iter_count =  72 :max_change =  30.3042730168\n",
      "iter_count =  73 :max_change =  25.3595775627\n",
      "iter_count =  74 :max_change =  21.2216994502\n",
      "iter_count =  75 :max_change =  17.7589916997\n",
      "iter_count =  76 :max_change =  14.8612879328\n",
      "iter_count =  77 :max_change =  12.4363974705\n",
      "iter_count =  78 :max_change =  10.4071721733\n",
      "iter_count =  79 :max_change =  8.70905199274\n",
      "iter_count =  80 :max_change =  7.28801114485\n",
      "iter_count =  81 :max_change =  6.09883905202\n",
      "iter_count =  82 :max_change =  5.10370210558\n",
      "iter_count =  83 :max_change =  4.27093993127\n",
      "iter_count =  84 :max_change =  3.57405810431\n",
      "iter_count =  85 :max_change =  2.99088526145\n",
      "iter_count =  86 :max_change =  2.50286770612\n",
      "iter_count =  87 :max_change =  2.09447915107\n",
      "iter_count =  88 :max_change =  1.75272664055\n",
      "iter_count =  89 :max_change =  1.46673728526\n",
      "iter_count =  90 :max_change =  1.22741233185\n",
      "iter_count =  91 :max_change =  1.02713757753\n",
      "[ 21624998.36636291  63157246.78545421         0.        ]\n",
      "[ 370053.87731138  632691.61911816  292585.19087916 ...,  339822.19480125\n",
      "  449412.04390048  339822.19480125]\n",
      "1.63049248148e+15\n"
     ]
    }
   ],
   "source": [
    "weights = lasso_cyclical_coordinate_descent(normalized_simple_feature_matrix, output,\n",
    "                                            initial_weights, l1_penalty, tolerance)\n",
    "\n",
    "predicted_output = predict_output(normalized_simple_feature_matrix, weights)\n",
    "print weights\n",
    "print predicted_output\n",
    "\n",
    "residuals = predicted_output - output\n",
    "residuals_sq = residuals*residuals\n",
    "rss = residuals_sq.sum()\n",
    "print rss"
   ]
  },
  {
   "cell_type": "markdown",
   "metadata": {},
   "source": [
    "***QUIZ QUESTIONS***\n",
    "1. What is the RSS of the learned model on the normalized dataset?\n",
    "2. Which features had weight zero at convergence?"
   ]
  },
  {
   "cell_type": "markdown",
   "metadata": {},
   "source": [
    "# Evaluating LASSO fit with more features"
   ]
  },
  {
   "cell_type": "markdown",
   "metadata": {},
   "source": [
    "Let us split the sales dataset into training and test sets."
   ]
  },
  {
   "cell_type": "code",
   "execution_count": 24,
   "metadata": {
    "collapsed": true
   },
   "outputs": [],
   "source": [
    "train_data,test_data = sales.random_split(.8,seed=0)"
   ]
  },
  {
   "cell_type": "markdown",
   "metadata": {},
   "source": [
    "Let us consider the following set of features."
   ]
  },
  {
   "cell_type": "code",
   "execution_count": 25,
   "metadata": {
    "collapsed": true
   },
   "outputs": [],
   "source": [
    "all_features = ['bedrooms',\n",
    "                'bathrooms',\n",
    "                'sqft_living',\n",
    "                'sqft_lot',\n",
    "                'floors',\n",
    "                'waterfront', \n",
    "                'view', \n",
    "                'condition', \n",
    "                'grade',\n",
    "                'sqft_above',\n",
    "                'sqft_basement',\n",
    "                'yr_built', \n",
    "                'yr_renovated']"
   ]
  },
  {
   "cell_type": "markdown",
   "metadata": {},
   "source": [
    "First, create a normalized feature matrix from the TRAINING data with these features.  (Make you store the norms for the normalization, since we'll use them later)"
   ]
  },
  {
   "cell_type": "code",
   "execution_count": 26,
   "metadata": {
    "collapsed": false
   },
   "outputs": [
    {
     "name": "stdout",
     "output_type": "stream",
     "text": [
      "[  1.31848398e+02   4.60040216e+02   2.96850552e+02   2.99962419e+05\n",
      "   5.81709718e+06   2.04107815e+02   1.15325626e+01   1.05933942e+02\n",
      "   4.57793622e+02   1.02101959e+03   2.59726472e+05   7.01224951e+04\n",
      "   2.59922094e+05   5.36953839e+04]\n"
     ]
    }
   ],
   "source": [
    "(train_feature_matrix, train_output) = get_numpy_data(train_data, all_features, 'price')\n",
    "(normalized_train_feature_matrix, train_norms) = normalize_features(train_feature_matrix) # normalize features\n",
    "print train_norms"
   ]
  },
  {
   "cell_type": "markdown",
   "metadata": {},
   "source": [
    "First, learn the weights with `l1_penalty=1e7`, on the training data. Initialize weights to all zeros, and set the `tolerance=1`.  Call resulting weights `weights1e7`, you will need them later."
   ]
  },
  {
   "cell_type": "code",
   "execution_count": 27,
   "metadata": {
    "collapsed": false
   },
   "outputs": [
    {
     "name": "stdout",
     "output_type": "stream",
     "text": [
      "iter_count =  0 :max_change =  71114625.7528\n",
      "iter_count =  1 :max_change =  5024356.36869\n",
      "iter_count =  2 :max_change =  5012324.91395\n",
      "iter_count =  3 :max_change =  5000676.42086\n",
      "iter_count =  4 :max_change =  4991243.17314\n",
      "iter_count =  5 :max_change =  4984361.34335\n",
      "iter_count =  6 :max_change =  4979504.92921\n",
      "iter_count =  7 :max_change =  4973806.56525\n",
      "iter_count =  8 :max_change =  2879222.99938\n",
      "iter_count =  9 :max_change =  2706150.76622\n",
      "iter_count =  10 :max_change =  2532295.64864\n",
      "iter_count =  11 :max_change =  2368316.57782\n",
      "iter_count =  12 :max_change =  2213124.35067\n",
      "iter_count =  13 :max_change =  1552443.60013\n",
      "iter_count =  14 :max_change =  507838.033159\n",
      "iter_count =  15 :max_change =  438814.370591\n",
      "iter_count =  16 :max_change =  371479.622608\n",
      "iter_count =  17 :max_change =  313415.105581\n",
      "iter_count =  18 :max_change =  264244.832139\n",
      "iter_count =  19 :max_change =  222753.8608\n",
      "iter_count =  20 :max_change =  187770.667306\n",
      "iter_count =  21 :max_change =  158280.093357\n",
      "iter_count =  22 :max_change =  133420.901606\n",
      "iter_count =  23 :max_change =  112465.988296\n",
      "iter_count =  24 :max_change =  94802.2134519\n",
      "iter_count =  25 :max_change =  79912.6874505\n",
      "iter_count =  26 :max_change =  67361.6926196\n",
      "iter_count =  27 :max_change =  56781.942492\n",
      "iter_count =  28 :max_change =  47863.835752\n",
      "iter_count =  29 :max_change =  40346.3966195\n",
      "iter_count =  30 :max_change =  34009.6378518\n",
      "iter_count =  31 :max_change =  28668.1231465\n",
      "iter_count =  32 :max_change =  24165.5406129\n",
      "iter_count =  33 :max_change =  20370.1285268\n",
      "iter_count =  34 :max_change =  17170.8195088\n",
      "iter_count =  35 :max_change =  14473.990295\n",
      "iter_count =  36 :max_change =  12200.7219837\n",
      "iter_count =  37 :max_change =  10284.4905855\n",
      "iter_count =  38 :max_change =  8669.22029243\n",
      "iter_count =  39 :max_change =  7307.64249855\n",
      "iter_count =  40 :max_change =  6159.912551\n",
      "iter_count =  41 :max_change =  5192.44375234\n",
      "iter_count =  42 :max_change =  4376.92449334\n",
      "iter_count =  43 :max_change =  3689.48975359\n",
      "iter_count =  44 :max_change =  3110.02272543\n",
      "iter_count =  45 :max_change =  2621.56612397\n",
      "iter_count =  46 :max_change =  2209.82595597\n",
      "iter_count =  47 :max_change =  1862.75322643\n",
      "iter_count =  48 :max_change =  1570.19134162\n",
      "iter_count =  49 :max_change =  1323.57889082\n",
      "iter_count =  50 :max_change =  1115.69910862\n",
      "iter_count =  51 :max_change =  940.468686543\n",
      "iter_count =  52 :max_change =  792.75975354\n",
      "iter_count =  53 :max_change =  668.249816097\n",
      "iter_count =  54 :max_change =  563.295266587\n",
      "iter_count =  55 :max_change =  474.824758224\n",
      "iter_count =  56 :max_change =  400.249326408\n",
      "iter_count =  57 :max_change =  337.386626367\n",
      "iter_count =  58 :max_change =  284.397069864\n",
      "iter_count =  59 :max_change =  239.729992341\n",
      "iter_count =  60 :max_change =  202.07827476\n",
      "iter_count =  61 :max_change =  170.340092756\n",
      "iter_count =  62 :max_change =  143.586673193\n",
      "iter_count =  63 :max_change =  121.035115026\n",
      "iter_count =  64 :max_change =  102.025478706\n",
      "iter_count =  65 :max_change =  86.0014740676\n",
      "iter_count =  66 :max_change =  72.4941812083\n",
      "iter_count =  67 :max_change =  61.1083282866\n",
      "iter_count =  68 :max_change =  51.5107243471\n",
      "iter_count =  69 :max_change =  43.4205090702\n",
      "iter_count =  70 :max_change =  36.6009337232\n",
      "iter_count =  71 :max_change =  30.8524330631\n",
      "iter_count =  72 :max_change =  26.0067853183\n",
      "iter_count =  73 :max_change =  21.922189448\n",
      "iter_count =  74 :max_change =  18.4791155159\n",
      "iter_count =  75 :max_change =  15.5768068396\n",
      "iter_count =  76 :max_change =  13.1303314269\n",
      "iter_count =  77 :max_change =  11.0680966415\n",
      "iter_count =  78 :max_change =  9.32975406572\n",
      "iter_count =  79 :max_change =  7.86443360895\n",
      "iter_count =  80 :max_change =  6.62925468013\n",
      "iter_count =  81 :max_change =  5.58807154372\n",
      "iter_count =  82 :max_change =  4.71041544527\n",
      "iter_count =  83 :max_change =  3.9706029892\n",
      "iter_count =  84 :max_change =  3.34698465466\n",
      "iter_count =  85 :max_change =  2.82131108269\n",
      "iter_count =  86 :max_change =  2.37819919735\n",
      "iter_count =  87 :max_change =  2.00468195602\n",
      "iter_count =  88 :max_change =  1.68982889503\n",
      "iter_count =  89 :max_change =  1.42442631349\n",
      "iter_count =  90 :max_change =  1.20070754737\n",
      "iter_count =  91 :max_change =  1.01212580502\n",
      "[ 24429600.60933315         0.                 0.          48389174.35227977\n",
      "         0.                 0.           3317511.16271981   7329961.9848964\n",
      "         0.                 0.                 0.                 0.\n",
      "         0.                 0.        ]\n"
     ]
    }
   ],
   "source": [
    "initial_weights = np.zeros(len(all_features)+1)\n",
    "l1_penalty = 1e7\n",
    "tolerance = 1.0\n",
    "weights1e7 = lasso_cyclical_coordinate_descent(normalized_train_feature_matrix, train_output,\n",
    "                                            initial_weights, l1_penalty, tolerance)\n",
    "print weights1e7"
   ]
  },
  {
   "cell_type": "markdown",
   "metadata": {},
   "source": [
    "***QUIZ QUESTION***\n",
    "\n",
    "What features had non-zero weight in this case?"
   ]
  },
  {
   "cell_type": "markdown",
   "metadata": {
    "collapsed": true
   },
   "source": [
    "Next, learn the weights with `l1_penalty=1e8`, on the training data. Initialize weights to all zeros, and set the `tolerance=1`.  Call resulting weights `weights1e8`, you will need them later."
   ]
  },
  {
   "cell_type": "code",
   "execution_count": 28,
   "metadata": {
    "collapsed": false
   },
   "outputs": [
    {
     "name": "stdout",
     "output_type": "stream",
     "text": [
      "iter_count =  0 :max_change =  71114625.7528\n",
      "[ 71114625.75280938         0.                 0.                 0.\n",
      "         0.                 0.                 0.                 0.\n",
      "         0.                 0.                 0.                 0.\n",
      "         0.                 0.        ]\n"
     ]
    }
   ],
   "source": [
    "initial_weights = np.zeros(len(all_features)+1)\n",
    "l1_penalty = 1e8\n",
    "tolerance = 1.0\n",
    "weights1e8 = lasso_cyclical_coordinate_descent(normalized_train_feature_matrix, train_output,\n",
    "                                            initial_weights, l1_penalty, tolerance)\n",
    "print weights1e8"
   ]
  },
  {
   "cell_type": "markdown",
   "metadata": {},
   "source": [
    "***QUIZ QUESTION***\n",
    "\n",
    "What features had non-zero weight in this case?"
   ]
  },
  {
   "cell_type": "markdown",
   "metadata": {},
   "source": [
    "Finally, learn the weights with `l1_penalty=1e4`, on the training data. Initialize weights to all zeros, and set the `tolerance=5e5`.  Call resulting weights `weights1e4`, you will need them later.  (This case will take quite a bit longer to converge than the others above.)"
   ]
  },
  {
   "cell_type": "code",
   "execution_count": 29,
   "metadata": {
    "collapsed": false
   },
   "outputs": [
    {
     "name": "stdout",
     "output_type": "stream",
     "text": [
      "iter_count =  0 :max_change =  71114625.7528\n",
      "iter_count =  1 :max_change =  8464015.94738\n",
      "iter_count =  2 :max_change =  6818451.35869\n",
      "iter_count =  3 :max_change =  5570165.21901\n",
      "iter_count =  4 :max_change =  4559838.46759\n",
      "iter_count =  5 :max_change =  3732056.69715\n",
      "iter_count =  6 :max_change =  3053211.61353\n",
      "iter_count =  7 :max_change =  2497517.43558\n",
      "iter_count =  8 :max_change =  2043868.97325\n",
      "iter_count =  9 :max_change =  1674717.70906\n",
      "iter_count =  10 :max_change =  1375420.75692\n",
      "iter_count =  11 :max_change =  1296621.8143\n",
      "iter_count =  12 :max_change =  1257340.9361\n",
      "iter_count =  13 :max_change =  1228271.24819\n",
      "iter_count =  14 :max_change =  1206854.36471\n",
      "iter_count =  15 :max_change =  1191059.40598\n",
      "iter_count =  16 :max_change =  1179030.77017\n",
      "iter_count =  17 :max_change =  1169777.43345\n",
      "iter_count =  18 :max_change =  1162340.67589\n",
      "iter_count =  19 :max_change =  1155980.52901\n",
      "iter_count =  20 :max_change =  1150139.67966\n",
      "iter_count =  21 :max_change =  1144406.32752\n",
      "iter_count =  22 :max_change =  1138483.91805\n",
      "iter_count =  23 :max_change =  1132166.57169\n",
      "iter_count =  24 :max_change =  1125319.16778\n",
      "iter_count =  25 :max_change =  1117861.24888\n",
      "iter_count =  26 :max_change =  1109754.06282\n",
      "iter_count =  27 :max_change =  1100990.17907\n",
      "iter_count =  28 :max_change =  1091585.21244\n",
      "iter_count =  29 :max_change =  1081571.26761\n",
      "iter_count =  30 :max_change =  1070991.78405\n",
      "iter_count =  31 :max_change =  1059897.51701\n",
      "iter_count =  32 :max_change =  1048343.43631\n",
      "iter_count =  33 :max_change =  1036386.3636\n",
      "iter_count =  34 :max_change =  1024083.20068\n",
      "iter_count =  35 :max_change =  1011489.62847\n",
      "iter_count =  36 :max_change =  998659.178392\n",
      "iter_count =  37 :max_change =  985642.596017\n",
      "iter_count =  38 :max_change =  972487.432403\n",
      "iter_count =  39 :max_change =  959237.810727\n",
      "iter_count =  40 :max_change =  945934.326266\n",
      "iter_count =  41 :max_change =  932614.046118\n",
      "iter_count =  42 :max_change =  919310.581988\n",
      "iter_count =  43 :max_change =  906054.214956\n",
      "iter_count =  44 :max_change =  892872.055697\n",
      "iter_count =  45 :max_change =  879109.302243\n",
      "iter_count =  46 :max_change =  866038.266742\n",
      "iter_count =  47 :max_change =  853191.44943\n",
      "iter_count =  48 :max_change =  840521.781012\n",
      "iter_count =  49 :max_change =  828028.403962\n",
      "iter_count =  50 :max_change =  815717.920819\n",
      "iter_count =  51 :max_change =  803598.206378\n",
      "iter_count =  52 :max_change =  791676.769693\n",
      "iter_count =  53 :max_change =  779960.222854\n",
      "iter_count =  54 :max_change =  768454.139375\n",
      "iter_count =  55 :max_change =  757163.05916\n",
      "iter_count =  56 :max_change =  746090.546302\n",
      "iter_count =  57 :max_change =  735239.263812\n",
      "iter_count =  58 :max_change =  724611.051693\n",
      "iter_count =  59 :max_change =  714002.910141\n",
      "iter_count =  60 :max_change =  703393.002342\n",
      "iter_count =  61 :max_change =  693038.299304\n",
      "iter_count =  62 :max_change =  682960.589206\n",
      "iter_count =  63 :max_change =  673155.135299\n",
      "iter_count =  64 :max_change =  663513.600594\n",
      "iter_count =  65 :max_change =  654148.681361\n",
      "iter_count =  66 :max_change =  645045.446052\n",
      "iter_count =  67 :max_change =  636191.878813\n",
      "iter_count =  68 :max_change =  627577.229773\n",
      "iter_count =  69 :max_change =  619191.96692\n",
      "iter_count =  70 :max_change =  611027.657019\n",
      "iter_count =  71 :max_change =  603076.796131\n",
      "iter_count =  72 :max_change =  595332.640574\n",
      "iter_count =  73 :max_change =  587789.058274\n",
      "iter_count =  74 :max_change =  580440.404721\n",
      "iter_count =  75 :max_change =  573281.422008\n",
      "iter_count =  76 :max_change =  566307.157817\n",
      "iter_count =  77 :max_change =  559512.901092\n",
      "iter_count =  78 :max_change =  552894.131446\n",
      "iter_count =  79 :max_change =  546446.479774\n",
      "iter_count =  80 :max_change =  540165.69795\n",
      "iter_count =  81 :max_change =  534047.63585\n",
      "iter_count =  82 :max_change =  528088.224232\n",
      "iter_count =  83 :max_change =  522283.462294\n",
      "iter_count =  84 :max_change =  516629.408909\n",
      "iter_count =  85 :max_change =  511122.176757\n",
      "iter_count =  86 :max_change =  505757.928682\n",
      "iter_count =  87 :max_change =  500532.875758\n",
      "[ 77779073.91265236 -22884012.25023361  15348487.08089996\n",
      "  92166869.69883078  -2139328.0824278   -8818455.54409495\n",
      "   6494209.73310655   7065162.05053197   4119079.2100676   18436483.52618774\n",
      " -14566678.54514343  -5528348.75179427 -83591746.20730542\n",
      "   2784276.46012858]\n"
     ]
    }
   ],
   "source": [
    "initial_weights = np.zeros(len(all_features)+1)\n",
    "l1_penalty = 1e4\n",
    "tolerance = 5e5\n",
    "weights1e4 = lasso_cyclical_coordinate_descent(normalized_train_feature_matrix, train_output,\n",
    "                                            initial_weights, l1_penalty, tolerance)\n",
    "print weights1e4"
   ]
  },
  {
   "cell_type": "markdown",
   "metadata": {},
   "source": [
    "***QUIZ QUESTION***\n",
    "\n",
    "What features had non-zero weight in this case?"
   ]
  },
  {
   "cell_type": "markdown",
   "metadata": {},
   "source": [
    "## Rescaling learned weights"
   ]
  },
  {
   "cell_type": "markdown",
   "metadata": {},
   "source": [
    "Recall that we normalized our feature matrix, before learning the weights.  To use these weights on a test set, we must normalize the test data in the same way.\n",
    "\n",
    "Alternatively, we can rescale the learned weights to include the normalization, so we never have to worry about normalizing the test data: \n",
    "\n",
    "In this case, we must scale the resulting weights so that we can make predictions with *original* features:\n",
    " 1. Store the norms of the original features to a vector called `norms`:\n",
    "```\n",
    "features, norms = normalize_features(features)\n",
    "```\n",
    " 2. Run Lasso on the normalized features and obtain a `weights` vector\n",
    " 3. Compute the weights for the original features by performing element-wise division, i.e.\n",
    "```\n",
    "weights_normalized = weights / norms\n",
    "```\n",
    "Now, we can apply `weights_normalized` to the test data, without normalizing it!"
   ]
  },
  {
   "cell_type": "markdown",
   "metadata": {},
   "source": [
    "Create a normalized version of each of the weights learned above. (`weights1e4`, `weights1e7`, `weights1e8`)."
   ]
  },
  {
   "cell_type": "code",
   "execution_count": 32,
   "metadata": {
    "collapsed": false
   },
   "outputs": [
    {
     "name": "stdout",
     "output_type": "stream",
     "text": [
      "161.317456248\n"
     ]
    }
   ],
   "source": [
    "normalized_weights1e7 = weights1e7 / train_norms\n",
    "normalized_weights1e8 = weights1e8 / train_norms\n",
    "normalized_weights1e4 = weights1e4 / train_norms\n",
    "print normalized_weights1e7[3]"
   ]
  },
  {
   "cell_type": "markdown",
   "metadata": {},
   "source": [
    "To check your results, if you call `normalized_weights1e7` the normalized version of `weights1e7`, then:\n",
    "```\n",
    "print normalized_weights1e7[3]\n",
    "```\n",
    "should return 161.31745624837794."
   ]
  },
  {
   "cell_type": "markdown",
   "metadata": {},
   "source": [
    "## Evaluating each of the learned models on the test data"
   ]
  },
  {
   "cell_type": "markdown",
   "metadata": {},
   "source": [
    "Let's now evaluate the three models on the test data:"
   ]
  },
  {
   "cell_type": "code",
   "execution_count": 34,
   "metadata": {
    "collapsed": true
   },
   "outputs": [],
   "source": [
    "(test_feature_matrix, test_output) = get_numpy_data(test_data, all_features, 'price')"
   ]
  },
  {
   "cell_type": "markdown",
   "metadata": {},
   "source": [
    "Compute the RSS of each of the three normalized weights on the (unnormalized) `test_feature_matrix`:"
   ]
  },
  {
   "cell_type": "code",
   "execution_count": 35,
   "metadata": {
    "collapsed": false
   },
   "outputs": [
    {
     "name": "stdout",
     "output_type": "stream",
     "text": [
      "2.75962079909e+14\n"
     ]
    }
   ],
   "source": [
    "predicted_test_output = predict_output(test_feature_matrix, normalized_weights1e7)\n",
    "residuals = predicted_test_output - test_output\n",
    "residuals_sq = residuals * residuals\n",
    "rss = residuals_sq.sum()\n",
    "print rss"
   ]
  },
  {
   "cell_type": "code",
   "execution_count": 36,
   "metadata": {
    "collapsed": false
   },
   "outputs": [
    {
     "name": "stdout",
     "output_type": "stream",
     "text": [
      "5.37166150034e+14\n"
     ]
    }
   ],
   "source": [
    "predicted_test_output = predict_output(test_feature_matrix, normalized_weights1e8)\n",
    "residuals = predicted_test_output - test_output\n",
    "residuals_sq = residuals * residuals\n",
    "rss = residuals_sq.sum()\n",
    "print rss"
   ]
  },
  {
   "cell_type": "code",
   "execution_count": 37,
   "metadata": {
    "collapsed": false
   },
   "outputs": [
    {
     "name": "stdout",
     "output_type": "stream",
     "text": [
      "2.2778100476e+14\n"
     ]
    }
   ],
   "source": [
    "predicted_test_output = predict_output(test_feature_matrix, normalized_weights1e4)\n",
    "residuals = predicted_test_output - test_output\n",
    "residuals_sq = residuals * residuals\n",
    "rss = residuals_sq.sum()\n",
    "print rss"
   ]
  },
  {
   "cell_type": "markdown",
   "metadata": {},
   "source": [
    "***QUIZ QUESTION***\n",
    "\n",
    "Which model performed best on the test data?"
   ]
  }
 ],
 "metadata": {
  "kernelspec": {
   "display_name": "Python 2",
   "language": "python",
   "name": "python2"
  },
  "language_info": {
   "codemirror_mode": {
    "name": "ipython",
    "version": 2
   },
   "file_extension": ".py",
   "mimetype": "text/x-python",
   "name": "python",
   "nbconvert_exporter": "python",
   "pygments_lexer": "ipython2",
   "version": "2.7.10"
  }
 },
 "nbformat": 4,
 "nbformat_minor": 0
}
